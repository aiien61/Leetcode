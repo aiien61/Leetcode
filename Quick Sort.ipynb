{
 "cells": [
  {
   "cell_type": "code",
   "execution_count": 2,
   "metadata": {},
   "outputs": [],
   "source": [
    "from typing import List\n",
    "\n",
    "class MySort:\n",
    "    @staticmethod\n",
    "    def swap(nums, left_i, right_i) -> None:\n",
    "        nums[left_i], nums[right_i] = nums[right_i], nums[left_i]\n",
    "        return None\n",
    "    \n",
    "    def quick_sort(self, nums: List[int], start_i=None, end_i=None) -> List[int]:\n",
    "        if start_i is None:\n",
    "            start_i = 0\n",
    "        \n",
    "        if end_i is None:\n",
    "            end_i = len(nums) - 1 \n",
    "            \n",
    "        if start_i == end_i:\n",
    "            return None\n",
    "        \n",
    "        if start_i > end_i:\n",
    "            return None\n",
    "        \n",
    "        # pick pivot\n",
    "        pivot_i, _ = divmod((start_i + end_i), 2)\n",
    "        \n",
    "        # swap pivot element to the last element\n",
    "        self.swap(nums, pivot_i, end_i)\n",
    "        pivot_i = end_i\n",
    "        \n",
    "        # sort the rest of the cuurent array\n",
    "        left_i = start_i\n",
    "        right_i = end_i - 1\n",
    "        while True:\n",
    "            while True:\n",
    "                if left_i == right_i:\n",
    "                    break\n",
    "                if nums[left_i] > nums[pivot_i]:\n",
    "                    break\n",
    "                left_i +=1\n",
    "\n",
    "            while True:\n",
    "                if left_i == right_i:\n",
    "                    break\n",
    "                if nums[right_i] < nums[pivot_i]:\n",
    "                    break\n",
    "                right_i -= 1\n",
    "                \n",
    "            if left_i == right_i:\n",
    "                break\n",
    "            \n",
    "            self.swap(nums, left_i, right_i)\n",
    "        \n",
    "        # move pivot to the correct place\n",
    "        meeting_point_i = left_i  # or meeting_point_i = right_i\n",
    "        if nums[meeting_point_i] >= nums[pivot_i]:\n",
    "            self.swap(nums, meeting_point_i, pivot_i)\n",
    "            pivot_i = meeting_point_i\n",
    "        \n",
    "        self.quick_sort(nums, start_i, pivot_i)\n",
    "        self.quick_sort(nums, pivot_i+1, end_i)\n",
    "        \n",
    "        "
   ]
  },
  {
   "cell_type": "code",
   "execution_count": 3,
   "metadata": {},
   "outputs": [
    {
     "data": {
      "text/plain": [
       "[10, 20, 30, 40, 50, 60, 70]"
      ]
     },
     "execution_count": 3,
     "metadata": {},
     "output_type": "execute_result"
    }
   ],
   "source": [
    "arr = [20, 10, 50, 30, 70, 60, 40]\n",
    "mysort = MySort()\n",
    "mysort.quick_sort(arr)\n",
    "arr"
   ]
  },
  {
   "cell_type": "code",
   "execution_count": null,
   "metadata": {},
   "outputs": [],
   "source": []
  }
 ],
 "metadata": {
  "kernelspec": {
   "display_name": "Python 3",
   "language": "python",
   "name": "python3"
  },
  "language_info": {
   "codemirror_mode": {
    "name": "ipython",
    "version": 3
   },
   "file_extension": ".py",
   "mimetype": "text/x-python",
   "name": "python",
   "nbconvert_exporter": "python",
   "pygments_lexer": "ipython3",
   "version": "3.8.6"
  }
 },
 "nbformat": 4,
 "nbformat_minor": 4
}
