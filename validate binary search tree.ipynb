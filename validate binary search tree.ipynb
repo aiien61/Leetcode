{
 "cells": [
  {
   "cell_type": "code",
   "execution_count": 1,
   "metadata": {},
   "outputs": [],
   "source": [
    "# Definition for a binary tree node.\n",
    "class TreeNode:\n",
    "    def __init__(self, val=0, left=None, right=None):\n",
    "        self.val = val\n",
    "        self.left = left\n",
    "        self.right = right\n",
    "\n",
    "class Solution:\n",
    "    def isValidBST(self, root: TreeNode) -> bool:\n",
    "        if root is None:\n",
    "            return True\n",
    "        \n",
    "        result = True\n",
    "        \n",
    "        # main logic\n",
    "        # find max node in the left side\n",
    "        if root.left != None:\n",
    "            max_left_node = self.find_max(root.left)\n",
    "            if max_left_node.val >= root.val:\n",
    "                result = False\n",
    "        \n",
    "        # find min node in the right side\n",
    "        if root.right != None:\n",
    "            min_right_node = self.find_min(root.right)\n",
    "            if min_right_node.val <= root.val:\n",
    "                result = False\n",
    "                \n",
    "        # data flow\n",
    "        result_left = self.isValidBST(root.left)\n",
    "        result_right = self.isValidBST(root.right)\n",
    "        if not all([result_left, result_right]):\n",
    "            result = False\n",
    "        \n",
    "        return result\n",
    "\n",
    "    def find_max(self, node):\n",
    "        if node is None:\n",
    "            return None\n",
    "\n",
    "        while True:\n",
    "            if node.right is None:\n",
    "                break\n",
    "            node = node.right\n",
    "        return node\n",
    "    \n",
    "    def find_min(self, node):\n",
    "        if node is None:\n",
    "            return None\n",
    "\n",
    "        while True:\n",
    "            if node.left is None:\n",
    "                break\n",
    "            node = node.left\n",
    "        return node"
   ]
  },
  {
   "cell_type": "code",
   "execution_count": 4,
   "metadata": {},
   "outputs": [],
   "source": [
    "root = TreeNode(5)\n",
    "level_1_right_node = TreeNode(4)\n",
    "level_1_left_node = TreeNode(1)\n",
    "root.right = level_1_right_node\n",
    "root.left = level_1_left_node\n",
    "level_2_left_node = TreeNode(3)\n",
    "level_2_right_node = TreeNode(6)\n",
    "root.right.left = level_2_left_node\n",
    "root.right.right = level_2_right_node"
   ]
  },
  {
   "cell_type": "code",
   "execution_count": 5,
   "metadata": {},
   "outputs": [
    {
     "data": {
      "text/plain": [
       "False"
      ]
     },
     "execution_count": 5,
     "metadata": {},
     "output_type": "execute_result"
    }
   ],
   "source": [
    "tree_validator = Solution()\n",
    "tree_validator.isValidBST(root)"
   ]
  },
  {
   "cell_type": "code",
   "execution_count": null,
   "metadata": {},
   "outputs": [],
   "source": []
  }
 ],
 "metadata": {
  "kernelspec": {
   "display_name": "Python 3",
   "language": "python",
   "name": "python3"
  },
  "language_info": {
   "codemirror_mode": {
    "name": "ipython",
    "version": 3
   },
   "file_extension": ".py",
   "mimetype": "text/x-python",
   "name": "python",
   "nbconvert_exporter": "python",
   "pygments_lexer": "ipython3",
   "version": "3.8.6"
  }
 },
 "nbformat": 4,
 "nbformat_minor": 4
}
