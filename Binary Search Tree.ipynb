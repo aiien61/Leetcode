{
 "cells": [
  {
   "cell_type": "code",
   "execution_count": 106,
   "metadata": {},
   "outputs": [],
   "source": [
    "from typing import List, Optional\n",
    "\n",
    "class BST_List:\n",
    "    def __init__(self, nums: List[int]):\n",
    "        self.nums = nums\n",
    "        self.root = None\n",
    "        self.buildtree()\n",
    "        \n",
    "    class Node:\n",
    "        def __init__(self, val: int, left=None, right=None):\n",
    "            self.val = val\n",
    "            self.right = right\n",
    "            self.left = left\n",
    "            \n",
    "        def __repr__(self):\n",
    "            return str({'val': self.val, 'left': self.left, 'right': self.right})\n",
    "    \n",
    "    def buildtree(self):\n",
    "        for num in self.nums:\n",
    "            self.insert(num)\n",
    "    \n",
    "    def insert(self, val: int):\n",
    "        if self.root is None:\n",
    "            self.root = self.Node(val)\n",
    "            return None\n",
    "        \n",
    "        current_node = self.root\n",
    "        \n",
    "        while True:\n",
    "            if current_node.val < val:\n",
    "                if current_node.right is None:\n",
    "                    current_node.right = self.Node(val)\n",
    "                    break\n",
    "                else:\n",
    "                    current_node = current_node.right\n",
    "                    continue\n",
    "            elif current_node.val > val:\n",
    "                if current_node.left is None:\n",
    "                    current_node.left = self.Node(val)\n",
    "                    break\n",
    "                else:\n",
    "                    current_node = current_node.left\n",
    "                    continue\n",
    "            else:\n",
    "                msg = f\"node {val} already exists. skip insertion.\"\n",
    "                raise ValueError(msg)\n",
    "    \n",
    "    def delete(self, val: int):\n",
    "        if self.root is None:\n",
    "            return None\n",
    "        \n",
    "        node = self._delete_(val, self.root)\n",
    "        if self.root is not node:\n",
    "            self.root = node\n",
    "        return None\n",
    "        \n",
    "    def _delete_(self, val: int, node):\n",
    "        if node is None:\n",
    "            return None\n",
    "        \n",
    "        if val < node.val:\n",
    "            node_child = self._delete_(val, node.left)\n",
    "            if node.left is not node_child:\n",
    "                node.left = node_child\n",
    "            \n",
    "        elif val > node.val:\n",
    "            node_child = self._delete_(val, node.right)\n",
    "            if node.right is not node_child:\n",
    "                node.right = node_child\n",
    "        \n",
    "        else:\n",
    "            if node.left is None and node.right is None:\n",
    "                node = None\n",
    "                \n",
    "            elif node.left is None and node.right is not None:\n",
    "                node = node.right\n",
    "            \n",
    "            elif node.left is not None and node.right is None:\n",
    "                node = node_from.left\n",
    "                \n",
    "            elif node.left is not None and node.right is not None:\n",
    "                node_min = self.get_min(node.right)\n",
    "                node.val, node_min.val = node_min.val, node.val\n",
    "                node_child = self._delete_(val, node.right)\n",
    "                if node.right is not node_child:\n",
    "                    node.right = node_child\n",
    "        \n",
    "        return node\n",
    "    \n",
    "    def get_min(self, node=None):\n",
    "        if node is None:\n",
    "            node = self.root\n",
    "\n",
    "        while True:\n",
    "            if node.left is None:\n",
    "                break\n",
    "            node = node.left\n",
    "        \n",
    "        return node\n",
    "\n",
    "    def search(self, val: int, node=None):\n",
    "        if self.root is None:\n",
    "            return None\n",
    "        \n",
    "        if node is None:\n",
    "            node = self.root\n",
    "            \n",
    "        if val < node.val:\n",
    "            node = self.search(val, node.left)\n",
    "\n",
    "        elif val > node.val:\n",
    "            node = self.search(val, node.right)\n",
    "        \n",
    "        return node\n"
   ]
  },
  {
   "cell_type": "code",
   "execution_count": 96,
   "metadata": {},
   "outputs": [],
   "source": [
    "nums = [5, 2, 6, 1, 4, 7, 3]"
   ]
  },
  {
   "cell_type": "code",
   "execution_count": 97,
   "metadata": {},
   "outputs": [
    {
     "data": {
      "text/html": [
       "<pre style=\"white-space:pre;overflow-x:auto;line-height:normal;font-family:Menlo,'DejaVu Sans Mono',consolas,'Courier New',monospace\"><span style=\"font-weight: bold\">{</span><span style=\"color: #008000; text-decoration-color: #008000\">'val'</span>: <span style=\"color: #008080; text-decoration-color: #008080; font-weight: bold\">5</span>, <span style=\"color: #008000; text-decoration-color: #008000\">'left'</span>: <span style=\"font-weight: bold\">{</span><span style=\"color: #008000; text-decoration-color: #008000\">'val'</span>: <span style=\"color: #008080; text-decoration-color: #008080; font-weight: bold\">2</span>, <span style=\"color: #008000; text-decoration-color: #008000\">'left'</span>: <span style=\"font-weight: bold\">{</span><span style=\"color: #008000; text-decoration-color: #008000\">'val'</span>: <span style=\"color: #008080; text-decoration-color: #008080; font-weight: bold\">1</span>, <span style=\"color: #008000; text-decoration-color: #008000\">'left'</span>: <span style=\"color: #800080; text-decoration-color: #800080; font-style: italic\">None</span>, <span style=\"color: #008000; text-decoration-color: #008000\">'right'</span>: <span style=\"color: #800080; text-decoration-color: #800080; font-style: italic\">None</span><span style=\"font-weight: bold\">}</span>, <span style=\"color: #008000; text-decoration-color: #008000\">'right'</span>: \n",
       "<span style=\"font-weight: bold\">{</span><span style=\"color: #008000; text-decoration-color: #008000\">'val'</span>: <span style=\"color: #008080; text-decoration-color: #008080; font-weight: bold\">4</span>, <span style=\"color: #008000; text-decoration-color: #008000\">'left'</span>: <span style=\"font-weight: bold\">{</span><span style=\"color: #008000; text-decoration-color: #008000\">'val'</span>: <span style=\"color: #008080; text-decoration-color: #008080; font-weight: bold\">3</span>, <span style=\"color: #008000; text-decoration-color: #008000\">'left'</span>: <span style=\"color: #800080; text-decoration-color: #800080; font-style: italic\">None</span>, <span style=\"color: #008000; text-decoration-color: #008000\">'right'</span>: <span style=\"color: #800080; text-decoration-color: #800080; font-style: italic\">None</span><span style=\"font-weight: bold\">}</span>, <span style=\"color: #008000; text-decoration-color: #008000\">'right'</span>: <span style=\"color: #800080; text-decoration-color: #800080; font-style: italic\">None</span><span style=\"font-weight: bold\">}}</span>, <span style=\"color: #008000; text-decoration-color: #008000\">'right'</span>: <span style=\"font-weight: bold\">{</span><span style=\"color: #008000; text-decoration-color: #008000\">'val'</span>:\n",
       "<span style=\"color: #008080; text-decoration-color: #008080; font-weight: bold\">6</span>, <span style=\"color: #008000; text-decoration-color: #008000\">'left'</span>: <span style=\"color: #800080; text-decoration-color: #800080; font-style: italic\">None</span>, <span style=\"color: #008000; text-decoration-color: #008000\">'right'</span>: <span style=\"font-weight: bold\">{</span><span style=\"color: #008000; text-decoration-color: #008000\">'val'</span>: <span style=\"color: #008080; text-decoration-color: #008080; font-weight: bold\">7</span>, <span style=\"color: #008000; text-decoration-color: #008000\">'left'</span>: <span style=\"color: #800080; text-decoration-color: #800080; font-style: italic\">None</span>, <span style=\"color: #008000; text-decoration-color: #008000\">'right'</span>: <span style=\"color: #800080; text-decoration-color: #800080; font-style: italic\">None</span><span style=\"font-weight: bold\">}}}</span>\n",
       "</pre>\n"
      ],
      "text/plain": [
       "\u001b[1m{\u001b[0m\u001b[32m'val'\u001b[0m: \u001b[1;36m5\u001b[0m, \u001b[32m'left'\u001b[0m: \u001b[1m{\u001b[0m\u001b[32m'val'\u001b[0m: \u001b[1;36m2\u001b[0m, \u001b[32m'left'\u001b[0m: \u001b[1m{\u001b[0m\u001b[32m'val'\u001b[0m: \u001b[1;36m1\u001b[0m, \u001b[32m'left'\u001b[0m: \u001b[3;35mNone\u001b[0m, \u001b[32m'right'\u001b[0m: \u001b[3;35mNone\u001b[0m\u001b[1m}\u001b[0m, \u001b[32m'right'\u001b[0m: \n",
       "\u001b[1m{\u001b[0m\u001b[32m'val'\u001b[0m: \u001b[1;36m4\u001b[0m, \u001b[32m'left'\u001b[0m: \u001b[1m{\u001b[0m\u001b[32m'val'\u001b[0m: \u001b[1;36m3\u001b[0m, \u001b[32m'left'\u001b[0m: \u001b[3;35mNone\u001b[0m, \u001b[32m'right'\u001b[0m: \u001b[3;35mNone\u001b[0m\u001b[1m}\u001b[0m, \u001b[32m'right'\u001b[0m: \u001b[3;35mNone\u001b[0m\u001b[1m}\u001b[0m\u001b[1m}\u001b[0m, \u001b[32m'right'\u001b[0m: \u001b[1m{\u001b[0m\u001b[32m'val'\u001b[0m:\n",
       "\u001b[1;36m6\u001b[0m, \u001b[32m'left'\u001b[0m: \u001b[3;35mNone\u001b[0m, \u001b[32m'right'\u001b[0m: \u001b[1m{\u001b[0m\u001b[32m'val'\u001b[0m: \u001b[1;36m7\u001b[0m, \u001b[32m'left'\u001b[0m: \u001b[3;35mNone\u001b[0m, \u001b[32m'right'\u001b[0m: \u001b[3;35mNone\u001b[0m\u001b[1m}\u001b[0m\u001b[1m}\u001b[0m\u001b[1m}\u001b[0m\n"
      ]
     },
     "metadata": {},
     "output_type": "display_data"
    }
   ],
   "source": [
    "from pprint import pprint\n",
    "import rich\n",
    "\n",
    "bst = BST_List(nums)\n",
    "rich.print(bst.root)"
   ]
  },
  {
   "cell_type": "code",
   "execution_count": 98,
   "metadata": {},
   "outputs": [
    {
     "data": {
      "text/html": [
       "<pre style=\"white-space:pre;overflow-x:auto;line-height:normal;font-family:Menlo,'DejaVu Sans Mono',consolas,'Courier New',monospace\"><span style=\"font-weight: bold\">{</span><span style=\"color: #008000; text-decoration-color: #008000\">'val'</span>: <span style=\"color: #008080; text-decoration-color: #008080; font-weight: bold\">6</span>, <span style=\"color: #008000; text-decoration-color: #008000\">'left'</span>: <span style=\"color: #800080; text-decoration-color: #800080; font-style: italic\">None</span>, <span style=\"color: #008000; text-decoration-color: #008000\">'right'</span>: <span style=\"font-weight: bold\">{</span><span style=\"color: #008000; text-decoration-color: #008000\">'val'</span>: <span style=\"color: #008080; text-decoration-color: #008080; font-weight: bold\">7</span>, <span style=\"color: #008000; text-decoration-color: #008000\">'left'</span>: <span style=\"color: #800080; text-decoration-color: #800080; font-style: italic\">None</span>, <span style=\"color: #008000; text-decoration-color: #008000\">'right'</span>: <span style=\"color: #800080; text-decoration-color: #800080; font-style: italic\">None</span><span style=\"font-weight: bold\">}}</span>\n",
       "</pre>\n"
      ],
      "text/plain": [
       "\u001b[1m{\u001b[0m\u001b[32m'val'\u001b[0m: \u001b[1;36m6\u001b[0m, \u001b[32m'left'\u001b[0m: \u001b[3;35mNone\u001b[0m, \u001b[32m'right'\u001b[0m: \u001b[1m{\u001b[0m\u001b[32m'val'\u001b[0m: \u001b[1;36m7\u001b[0m, \u001b[32m'left'\u001b[0m: \u001b[3;35mNone\u001b[0m, \u001b[32m'right'\u001b[0m: \u001b[3;35mNone\u001b[0m\u001b[1m}\u001b[0m\u001b[1m}\u001b[0m\n"
      ]
     },
     "metadata": {},
     "output_type": "display_data"
    }
   ],
   "source": [
    "rich.print(bst.search(6))"
   ]
  },
  {
   "cell_type": "code",
   "execution_count": 108,
   "metadata": {},
   "outputs": [
    {
     "data": {
      "text/html": [
       "<pre style=\"white-space:pre;overflow-x:auto;line-height:normal;font-family:Menlo,'DejaVu Sans Mono',consolas,'Courier New',monospace\"><span style=\"font-weight: bold\">{</span><span style=\"color: #008000; text-decoration-color: #008000\">'val'</span>: <span style=\"color: #008080; text-decoration-color: #008080; font-weight: bold\">5</span>, <span style=\"color: #008000; text-decoration-color: #008000\">'left'</span>: <span style=\"font-weight: bold\">{</span><span style=\"color: #008000; text-decoration-color: #008000\">'val'</span>: <span style=\"color: #008080; text-decoration-color: #008080; font-weight: bold\">3</span>, <span style=\"color: #008000; text-decoration-color: #008000\">'left'</span>: <span style=\"font-weight: bold\">{</span><span style=\"color: #008000; text-decoration-color: #008000\">'val'</span>: <span style=\"color: #008080; text-decoration-color: #008080; font-weight: bold\">1</span>, <span style=\"color: #008000; text-decoration-color: #008000\">'left'</span>: <span style=\"color: #800080; text-decoration-color: #800080; font-style: italic\">None</span>, <span style=\"color: #008000; text-decoration-color: #008000\">'right'</span>: <span style=\"color: #800080; text-decoration-color: #800080; font-style: italic\">None</span><span style=\"font-weight: bold\">}</span>, <span style=\"color: #008000; text-decoration-color: #008000\">'right'</span>: \n",
       "<span style=\"font-weight: bold\">{</span><span style=\"color: #008000; text-decoration-color: #008000\">'val'</span>: <span style=\"color: #008080; text-decoration-color: #008080; font-weight: bold\">4</span>, <span style=\"color: #008000; text-decoration-color: #008000\">'left'</span>: <span style=\"color: #800080; text-decoration-color: #800080; font-style: italic\">None</span>, <span style=\"color: #008000; text-decoration-color: #008000\">'right'</span>: <span style=\"color: #800080; text-decoration-color: #800080; font-style: italic\">None</span><span style=\"font-weight: bold\">}}</span>, <span style=\"color: #008000; text-decoration-color: #008000\">'right'</span>: <span style=\"font-weight: bold\">{</span><span style=\"color: #008000; text-decoration-color: #008000\">'val'</span>: <span style=\"color: #008080; text-decoration-color: #008080; font-weight: bold\">6</span>, <span style=\"color: #008000; text-decoration-color: #008000\">'left'</span>: <span style=\"color: #800080; text-decoration-color: #800080; font-style: italic\">None</span>, <span style=\"color: #008000; text-decoration-color: #008000\">'right'</span>: <span style=\"font-weight: bold\">{</span><span style=\"color: #008000; text-decoration-color: #008000\">'val'</span>: \n",
       "<span style=\"color: #008080; text-decoration-color: #008080; font-weight: bold\">7</span>, <span style=\"color: #008000; text-decoration-color: #008000\">'left'</span>: <span style=\"color: #800080; text-decoration-color: #800080; font-style: italic\">None</span>, <span style=\"color: #008000; text-decoration-color: #008000\">'right'</span>: <span style=\"color: #800080; text-decoration-color: #800080; font-style: italic\">None</span><span style=\"font-weight: bold\">}}}</span>\n",
       "</pre>\n"
      ],
      "text/plain": [
       "\u001b[1m{\u001b[0m\u001b[32m'val'\u001b[0m: \u001b[1;36m5\u001b[0m, \u001b[32m'left'\u001b[0m: \u001b[1m{\u001b[0m\u001b[32m'val'\u001b[0m: \u001b[1;36m3\u001b[0m, \u001b[32m'left'\u001b[0m: \u001b[1m{\u001b[0m\u001b[32m'val'\u001b[0m: \u001b[1;36m1\u001b[0m, \u001b[32m'left'\u001b[0m: \u001b[3;35mNone\u001b[0m, \u001b[32m'right'\u001b[0m: \u001b[3;35mNone\u001b[0m\u001b[1m}\u001b[0m, \u001b[32m'right'\u001b[0m: \n",
       "\u001b[1m{\u001b[0m\u001b[32m'val'\u001b[0m: \u001b[1;36m4\u001b[0m, \u001b[32m'left'\u001b[0m: \u001b[3;35mNone\u001b[0m, \u001b[32m'right'\u001b[0m: \u001b[3;35mNone\u001b[0m\u001b[1m}\u001b[0m\u001b[1m}\u001b[0m, \u001b[32m'right'\u001b[0m: \u001b[1m{\u001b[0m\u001b[32m'val'\u001b[0m: \u001b[1;36m6\u001b[0m, \u001b[32m'left'\u001b[0m: \u001b[3;35mNone\u001b[0m, \u001b[32m'right'\u001b[0m: \u001b[1m{\u001b[0m\u001b[32m'val'\u001b[0m: \n",
       "\u001b[1;36m7\u001b[0m, \u001b[32m'left'\u001b[0m: \u001b[3;35mNone\u001b[0m, \u001b[32m'right'\u001b[0m: \u001b[3;35mNone\u001b[0m\u001b[1m}\u001b[0m\u001b[1m}\u001b[0m\u001b[1m}\u001b[0m\n"
      ]
     },
     "metadata": {},
     "output_type": "display_data"
    }
   ],
   "source": [
    "bst = BST_List(nums)\n",
    "bst.delete(2)\n",
    "rich.print(bst.root)"
   ]
  },
  {
   "cell_type": "code",
   "execution_count": null,
   "metadata": {},
   "outputs": [],
   "source": []
  }
 ],
 "metadata": {
  "kernelspec": {
   "display_name": "Python 3",
   "language": "python",
   "name": "python3"
  },
  "language_info": {
   "codemirror_mode": {
    "name": "ipython",
    "version": 3
   },
   "file_extension": ".py",
   "mimetype": "text/x-python",
   "name": "python",
   "nbconvert_exporter": "python",
   "pygments_lexer": "ipython3",
   "version": "3.8.6"
  }
 },
 "nbformat": 4,
 "nbformat_minor": 4
}
