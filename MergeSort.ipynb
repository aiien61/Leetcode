{
 "cells": [
  {
   "cell_type": "code",
   "execution_count": 18,
   "metadata": {},
   "outputs": [],
   "source": [
    "from typing import List\n",
    "\n",
    "class MySort:\n",
    "    def merge_sort(self, nums: List[int], start_i=None, end_i=None):\n",
    "        if start_i is None:\n",
    "            start_i = 0\n",
    "        if end_i is None:\n",
    "            end_i = len(nums) - 1\n",
    "        \n",
    "        if start_i == end_i:\n",
    "            return None\n",
    "        \n",
    "        mid_i, _ = divmod(start_i + end_i, 2)\n",
    "        \n",
    "        self.merge_sort(nums, start_i, mid_i)\n",
    "        self.merge_sort(nums, mid_i+1, end_i)\n",
    "        \n",
    "        self.sort(nums, start_i, mid_i, end_i)\n",
    "        return None\n",
    "        \n",
    "    def sort(self, nums: List[int], start_i: int, mid_i: int, end_i: int):\n",
    "        tmp_nums = [None] * len(nums)\n",
    "        tmp_nums_i = start_i\n",
    "        left_array_i = start_i\n",
    "        right_array_i = mid_i + 1\n",
    "        while True:\n",
    "            if tmp_nums_i > end_i:\n",
    "                break\n",
    "            \n",
    "            num_left = None\n",
    "            num_right = None\n",
    "            \n",
    "            if left_array_i <= mid_i:\n",
    "                num_left = nums[left_array_i]\n",
    "            \n",
    "            if right_array_i <= end_i:\n",
    "                num_right = nums[right_array_i]\n",
    "                \n",
    "            if num_left is not None and num_right is not None:\n",
    "                if num_left <= num_right:\n",
    "                    tmp_nums[tmp_nums_i] = num_left\n",
    "                    left_array_i += 1\n",
    "                else:\n",
    "                    tmp_nums[tmp_nums_i] = num_right\n",
    "                    right_array_i += 1\n",
    "\n",
    "            elif num_left is None and num_right is not None:\n",
    "                tmp_nums[tmp_nums_i] = num_right\n",
    "                right_array_i += 1\n",
    "\n",
    "            elif num_left is not None and num_right is None:\n",
    "                tmp_nums[tmp_nums_i] = num_left\n",
    "                left_array_i += 1\n",
    "            else:\n",
    "                raise RuntimeError(\"Noe element left.\")\n",
    "            \n",
    "            tmp_nums_i += 1\n",
    "        \n",
    "        i = start_i\n",
    "        while True:\n",
    "            if i > end_i:\n",
    "                break\n",
    "            nums[i] = tmp_nums[i]\n",
    "            i += 1\n",
    "        \n",
    "        return None"
   ]
  },
  {
   "cell_type": "code",
   "execution_count": 19,
   "metadata": {},
   "outputs": [
    {
     "data": {
      "text/plain": [
       "[2, 2, 12, 20, 24, 45, 53, 56, 56, 75, 99]"
      ]
     },
     "execution_count": 19,
     "metadata": {},
     "output_type": "execute_result"
    }
   ],
   "source": [
    "mysort = MySort()\n",
    "nums = [24,2,45,20,56,75,2,56,99,53,12]\n",
    "mysort.merge_sort(nums)\n",
    "nums"
   ]
  },
  {
   "cell_type": "code",
   "execution_count": null,
   "metadata": {},
   "outputs": [],
   "source": []
  }
 ],
 "metadata": {
  "kernelspec": {
   "display_name": "Python 3",
   "language": "python",
   "name": "python3"
  },
  "language_info": {
   "codemirror_mode": {
    "name": "ipython",
    "version": 3
   },
   "file_extension": ".py",
   "mimetype": "text/x-python",
   "name": "python",
   "nbconvert_exporter": "python",
   "pygments_lexer": "ipython3",
   "version": "3.8.6"
  }
 },
 "nbformat": 4,
 "nbformat_minor": 4
}
