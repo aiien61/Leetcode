{
 "cells": [
  {
   "cell_type": "code",
   "execution_count": null,
   "metadata": {},
   "outputs": [],
   "source": [
    "def bubble_sort_loop(arr:list, reverse=False) -> list:\n",
    "    n = len(arr)\n",
    "    for i in range(n):\n",
    "        for j in range(n-i-1):\n",
    "            if arr[j] > arr[j+1]:\n",
    "                arr[j], arr[j+1] = arr[j+1], arr[j]\n",
    "    \n",
    "    if not reverse:\n",
    "        return arr\n",
    "    else:\n",
    "        return arr[::-1]\n",
    "    \n",
    "\n",
    "def bubble_sort_recursive(arr:list, n=None, reverse=False) -> list:\n",
    "    if not n:\n",
    "        n = len(arr)\n",
    "    \n",
    "    if n == 1:\n",
    "        if not reverse:\n",
    "            return arr\n",
    "        else:\n",
    "            return arr[::-1]\n",
    "    \n",
    "    for i in range(n-1):\n",
    "        if arr[i] > arr[i+1]:\n",
    "            arr[i], arr[i+1] = arr[i+1], arr[i]\n",
    "\n",
    "    return bubble_sort_recursive(arr, n=n-1)\n",
    "\n"
   ]
  },
  {
   "cell_type": "code",
   "execution_count": null,
   "metadata": {},
   "outputs": [],
   "source": [
    "bubble_sort_recursive([10, 3, 5, 2, 1, 0, 20, 15])\n",
    "bubble_sort_loop([10, 3, 5, 2, 1, 0, 20, 15])"
   ]
  },
  {
   "cell_type": "code",
   "execution_count": null,
   "metadata": {},
   "outputs": [],
   "source": [
    "def insertion_sort_loop(arr:list) -> list:\n",
    "    for i in range(len(arr)):\n",
    "        j = i\n",
    "        while j > 0:\n",
    "            if arr[j] < arr[j-1]:\n",
    "                arr[j], arr[j-1] = arr[j-1], arr[j]\n",
    "                j -= 1\n",
    "            else:\n",
    "                break\n",
    "    return arr\n",
    "\n",
    "\n",
    "def insertion_sort_recursive(arr:list, n=None) -> list:\n",
    "    if not n:\n",
    "        n = 0\n",
    "    \n",
    "    if n == len(arr):\n",
    "        return arr\n",
    "        \n",
    "    i = n\n",
    "    while i > 0:\n",
    "        if arr[i] < arr[i-1]:\n",
    "            arr[i], arr[i-1] = arr[i-1], arr[i]\n",
    "            i -= 1\n",
    "        else:\n",
    "            break\n",
    "\n",
    "    return insertion_sort_recursive(arr, n+1)\n"
   ]
  },
  {
   "cell_type": "code",
   "execution_count": null,
   "metadata": {},
   "outputs": [],
   "source": [
    "insertion_sort_loop([10, 3, 5, 2, 1, 0, 20, 15])\n",
    "insertion_sort_recursive([10, 3, 5, 2, 1, 0, 20, 15])"
   ]
  },
  {
   "cell_type": "code",
   "execution_count": null,
   "metadata": {},
   "outputs": [],
   "source": [
    "def hanoi(n:int, pillar_a:str, pillar_b:str, pillar_c:str) -> None:\n",
    "    if n == 1:\n",
    "        print(f'{n}號圈: {pillar_a} -> {pillar_c}')\n",
    "    else:\n",
    "        hanoi(n-1, pillar_a, pillar_c, pillar_b)\n",
    "        print(f'{n}號圈: {pillar_a} -> {pillar_c}')\n",
    "        hanoi(n-1, pillar_b, pillar_a, pillar_c)"
   ]
  },
  {
   "cell_type": "code",
   "execution_count": null,
   "metadata": {},
   "outputs": [],
   "source": [
    "hanoi(5, 'A', 'B', 'C')"
   ]
  },
  {
   "cell_type": "code",
   "execution_count": null,
   "metadata": {},
   "outputs": [],
   "source": [
    "def merge_sort(arr:list) -> list:\n",
    "    if len(arr) < 1:\n",
    "        raise ValueError('empty array.')\n",
    "        \n",
    "    if len(arr) == 1:\n",
    "        return arr\n",
    "    \n",
    "    mid = len(arr)//2\n",
    "    \n",
    "    L = arr[:mid]\n",
    "    R = arr[mid:]\n",
    "    \n",
    "    L = merge_sort(L)\n",
    "    R = merge_sort(R)\n",
    "    \n",
    "    i = j = k = 0\n",
    "    \n",
    "    while i < len(L) and j < len(R):\n",
    "        if L[i] < R[j]:\n",
    "            arr[k] = L[i]\n",
    "            i += 1\n",
    "        else:\n",
    "            arr[k] = R[j]\n",
    "            j += 1\n",
    "        k += 1\n",
    "    \n",
    "    while i < len(L):\n",
    "        arr[k] = L[i]\n",
    "        i += 1\n",
    "        k += 1\n",
    "        \n",
    "    while j < len(R):\n",
    "        arr[k] = R[j]\n",
    "        j += 1\n",
    "        k += 1\n",
    "        \n",
    "    return arr\n",
    "    "
   ]
  },
  {
   "cell_type": "code",
   "execution_count": null,
   "metadata": {},
   "outputs": [],
   "source": [
    "merge_sort([10, 3, 5, 2, 1, 0, 20, 15])"
   ]
  },
  {
   "cell_type": "code",
   "execution_count": null,
   "metadata": {},
   "outputs": [],
   "source": [
    "def selection_sort_loop(arr:list) -> list:\n",
    "    for i in range(len(arr)):\n",
    "        i_max = i\n",
    "        for j in range(i+1, len(arr)):\n",
    "            if arr[i_max] < arr[j]:\n",
    "                i_max = j\n",
    "        arr[i], arr[i_max] = arr[i_max], arr[i]\n",
    "        \n",
    "    return arr\n",
    "\n",
    "\n",
    "def selection_sort_recursive(arr:list, i=None) -> list:\n",
    "    if i == len(arr):\n",
    "        return arr\n",
    "    \n",
    "    if not i:\n",
    "        i = 0\n",
    "        \n",
    "    i_max = i\n",
    "    \n",
    "    for j in range(i+1, len(arr)):\n",
    "        if arr[i_max] < arr[j]:\n",
    "            i_max = j\n",
    "    arr[i], arr[i_max] = arr[i_max], arr[i]\n",
    "    \n",
    "    return selection_sort_recursive(arr, i+1)\n"
   ]
  },
  {
   "cell_type": "code",
   "execution_count": null,
   "metadata": {},
   "outputs": [],
   "source": [
    "selection_sort_loop([10, 3, 5, 2, 1, 0, 20, 15])\n",
    "selection_sort_recursive([10, 3, 5, 2, 1, 0, 20, 15])"
   ]
  }
 ],
 "metadata": {
  "kernelspec": {
   "display_name": "Python 3",
   "language": "python",
   "name": "python3"
  },
  "language_info": {
   "codemirror_mode": {
    "name": "ipython",
    "version": 3
   },
   "file_extension": ".py",
   "mimetype": "text/x-python",
   "name": "python",
   "nbconvert_exporter": "python",
   "pygments_lexer": "ipython3",
   "version": "3.8.6"
  }
 },
 "nbformat": 4,
 "nbformat_minor": 4
}
