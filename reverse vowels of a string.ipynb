{
 "cells": [
  {
   "cell_type": "code",
   "execution_count": 1,
   "metadata": {},
   "outputs": [
    {
     "data": {
      "text/plain": [
       "'a'"
      ]
     },
     "execution_count": 1,
     "metadata": {},
     "output_type": "execute_result"
    }
   ],
   "source": [
    "'A'.lower()"
   ]
  },
  {
   "cell_type": "code",
   "execution_count": 9,
   "metadata": {},
   "outputs": [
    {
     "name": "stdout",
     "output_type": "stream",
     "text": [
      "A\n",
      "B\n",
      "C\n"
     ]
    }
   ],
   "source": [
    "for i in 'ABC':\n",
    "    print(i)"
   ]
  },
  {
   "cell_type": "code",
   "execution_count": 21,
   "metadata": {},
   "outputs": [
    {
     "name": "stdout",
     "output_type": "stream",
     "text": [
      "LeotCede\n"
     ]
    }
   ],
   "source": [
    "def reverse_vowels(s:str) -> str:\n",
    "    vowels = {'a', 'e', 'i', 'o', 'u'}\n",
    "    vowels_idx = []\n",
    "    vowels_char = []\n",
    "    word = []\n",
    "\n",
    "    for idx, char in enumerate(s):\n",
    "        if char.lower() in vowels:\n",
    "            vowels_idx.append(idx)\n",
    "            vowels_char.append(char)\n",
    "            word.append(None)\n",
    "        else:\n",
    "            word.append(char)\n",
    "\n",
    "    for idx, char_idx in enumerate(vowels_idx[::-1]):\n",
    "        word[char_idx] = vowels_char[idx]\n",
    "\n",
    "    word = ''.join(word)\n",
    "    return word\n",
    "    \n",
    "ans = reverse_vowels('LeetCode')\n",
    "print(ans)"
   ]
  },
  {
   "cell_type": "code",
   "execution_count": 27,
   "metadata": {},
   "outputs": [
    {
     "data": {
      "text/plain": [
       "['a', 'b', ' ', 'c', 'd']"
      ]
     },
     "execution_count": 27,
     "metadata": {},
     "output_type": "execute_result"
    }
   ],
   "source": [
    "s = 'ab c'\n",
    "s = s + 'd'\n",
    "list(s)"
   ]
  },
  {
   "cell_type": "code",
   "execution_count": null,
   "metadata": {},
   "outputs": [],
   "source": []
  }
 ],
 "metadata": {
  "kernelspec": {
   "display_name": "Python 3",
   "language": "python",
   "name": "python3"
  },
  "language_info": {
   "codemirror_mode": {
    "name": "ipython",
    "version": 3
   },
   "file_extension": ".py",
   "mimetype": "text/x-python",
   "name": "python",
   "nbconvert_exporter": "python",
   "pygments_lexer": "ipython3",
   "version": "3.8.6"
  }
 },
 "nbformat": 4,
 "nbformat_minor": 4
}
