{
 "cells": [
  {
   "cell_type": "code",
   "execution_count": 6,
   "metadata": {},
   "outputs": [],
   "source": [
    "from typing import List"
   ]
  },
  {
   "cell_type": "code",
   "execution_count": 1,
   "metadata": {},
   "outputs": [],
   "source": [
    "class TreeNode:\n",
    "    def __init__(self, val=0, left=None, right=None):\n",
    "        self.val = val\n",
    "        self.left = left\n",
    "        self.right = right"
   ]
  },
  {
   "cell_type": "code",
   "execution_count": 28,
   "metadata": {},
   "outputs": [],
   "source": [
    "class BinaryTree:\n",
    "    def __init__(self, nums: list):\n",
    "        self.root = None\n",
    "        self.build_tree(nums)\n",
    "        \n",
    "    def build_tree(self, nums):\n",
    "        for val in nums:\n",
    "            if val is None:\n",
    "                continue\n",
    "            self.add(val)\n",
    "    \n",
    "    def add(self, val):\n",
    "        if not self.root:\n",
    "            self.root = TreeNode(val)\n",
    "        else:\n",
    "            self._add(val, self.root)\n",
    "        return None\n",
    "            \n",
    "    def _add(self, val, node):\n",
    "        if val < node.val:\n",
    "            if not node.left:\n",
    "                node.left = TreeNode(val)\n",
    "            else:\n",
    "                self._add(val, node.left)\n",
    "        elif val > node.val:\n",
    "            if not node.right:\n",
    "                node.right = TreeNode(val)\n",
    "            else:\n",
    "                self._add(val, node.right)\n",
    "        else:\n",
    "            if not node.left:\n",
    "                node.left = TreeNode(val)\n",
    "            else:\n",
    "                new_left_node = TreeNode(val)\n",
    "                new_left_node.left = node.left\n",
    "                node.left = new_left_node\n",
    "        return None\n",
    "\n",
    "    def traverse_inorder_dfsleft(self):\n",
    "        if not self.root:\n",
    "            return None\n",
    "        self.traverse_inorder_dfsleft_recursive(self.root)\n",
    "        print()\n",
    "\n",
    "    def traverse_inorder_dfsleft_recursive(self, node):\n",
    "        if not node:\n",
    "            return None\n",
    "        \n",
    "        self.traverse_inorder_dfsleft_recursive(node.left)\n",
    "        print(node.val, end=\" \")\n",
    "        self.traverse_inorder_dfsleft_recursive(node.right)\n",
    "        return None\n",
    "    \n",
    "    def traverse_inorder_dfsright(self):\n",
    "        if not self.root:\n",
    "            return None\n",
    "        self.traverse_inorder_dfsright_recursive(self.root)\n",
    "        print()\n",
    "\n",
    "    def traverse_inorder_dfsright_recursive(self, node):\n",
    "        if not node:\n",
    "            return None\n",
    "        \n",
    "        self.traverse_inorder_dfsright_recursive(node.right)\n",
    "        print(node.val, end=\" \")\n",
    "        self.traverse_inorder_dfsright_recursive(node.left)\n",
    "        return None"
   ]
  },
  {
   "cell_type": "code",
   "execution_count": 29,
   "metadata": {},
   "outputs": [
    {
     "name": "stdout",
     "output_type": "stream",
     "text": [
      "1 2 2 3 4 5 7 7 8 9 10 \n",
      "10 9 8 7 7 5 4 3 2 2 1 \n"
     ]
    }
   ],
   "source": [
    "nums = [5,2,7,4,8,1,9,3,7,10,2]\n",
    "tree = BinaryTree(nums)\n",
    "tree.traverse_inorder_dfsleft()\n",
    "tree.traverse_inorder_dfsright()"
   ]
  },
  {
   "cell_type": "code",
   "execution_count": 41,
   "metadata": {},
   "outputs": [],
   "source": [
    "class Solution:\n",
    "    def __init__(self):\n",
    "        self.count_dict = dict()\n",
    "    \n",
    "    def findMode(self, root: TreeNode) -> List[int]:\n",
    "        if root is None:\n",
    "            return []\n",
    "        self.findMode_recursive(root)\n",
    "        return self.aggregate_count()\n",
    "         \n",
    "    def findMode_recursive(self, node: TreeNode):\n",
    "        if node is None:\n",
    "            return None\n",
    "        self.findMode_recursive(node.left)\n",
    "        if not self.count_dict.get(node.val):\n",
    "            self.count_dict[node.val] = 1\n",
    "        else:\n",
    "            self.count_dict[node.val] += 1\n",
    "        self.findMode_recursive(node.right)\n",
    "        return None\n",
    "    \n",
    "    def aggregate_count(self):\n",
    "        modes = dict()\n",
    "        for k, v in self.count_dict.items():\n",
    "            if not modes.get(v):\n",
    "                modes[v] = [k]\n",
    "            else:\n",
    "                modes[v].append(k)\n",
    "        max_count = max(modes)\n",
    "        return modes.get(max_count)"
   ]
  },
  {
   "cell_type": "code",
   "execution_count": 42,
   "metadata": {},
   "outputs": [
    {
     "name": "stdout",
     "output_type": "stream",
     "text": [
      "0 \n",
      "0 \n"
     ]
    }
   ],
   "source": [
    "nums = [1, None, 8, 6, 10, 4, 7, 10, 12, 4, 5, 7,10]\n",
    "nums = [0]\n",
    "tree = BinaryTree(nums)\n",
    "tree.traverse_inorder_dfsleft()\n",
    "tree.traverse_inorder_dfsright()"
   ]
  },
  {
   "cell_type": "code",
   "execution_count": 43,
   "metadata": {},
   "outputs": [
    {
     "data": {
      "text/plain": [
       "[0]"
      ]
     },
     "execution_count": 43,
     "metadata": {},
     "output_type": "execute_result"
    }
   ],
   "source": [
    "bst = Solution()\n",
    "bst.findMode(tree.root)"
   ]
  },
  {
   "cell_type": "code",
   "execution_count": null,
   "metadata": {},
   "outputs": [],
   "source": []
  }
 ],
 "metadata": {
  "kernelspec": {
   "display_name": "Python 3",
   "language": "python",
   "name": "python3"
  },
  "language_info": {
   "codemirror_mode": {
    "name": "ipython",
    "version": 3
   },
   "file_extension": ".py",
   "mimetype": "text/x-python",
   "name": "python",
   "nbconvert_exporter": "python",
   "pygments_lexer": "ipython3",
   "version": "3.8.6"
  }
 },
 "nbformat": 4,
 "nbformat_minor": 4
}
