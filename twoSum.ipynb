{
 "cells": [
  {
   "cell_type": "code",
   "execution_count": null,
   "metadata": {},
   "outputs": [],
   "source": [
    "from typing import List\n",
    "\n",
    "class Solution:\n",
    "    def twoSum(self, nums: List[int], target: int) -> List[int]:\n",
    "        new_targets = dict()\n",
    "        for idx, num in enumerate(nums):\n",
    "            diff = target - num\n",
    "            if not new_targets.get(diff):\n",
    "                new_targets[diff] = {idx,}\n",
    "            else:\n",
    "                new_targets[diff].add(idx)\n",
    "        \n",
    "        for i, x in enumerate(nums):\n",
    "            if x not in new_targets.keys():\n",
    "                continue\n",
    "\n",
    "            if len(new_targets[x]) == 1 and i in new_targets[x]:\n",
    "                continue\n",
    "\n",
    "            if len(new_targets[x]) > 1:\n",
    "                d = new_targets[x] - {i}\n",
    "                j = d.pop()\n",
    "                break\n",
    "            else:\n",
    "                j = new_targets[x].pop()\n",
    "                break\n",
    "        \n",
    "        return [i, j] if i < j else [j, i]\n"
   ]
  },
  {
   "cell_type": "code",
   "execution_count": null,
   "metadata": {},
   "outputs": [],
   "source": [
    "from typing import List\n",
    "\n",
    "class Solution:\n",
    "    def twoSum(self, nums: List[int], target: int) -> List[int]:\n",
    "        new_targets = dict()\n",
    "        for i, num in enumerate(nums):\n",
    "            print(new_targets)\n",
    "            print('Have:', num)\n",
    "            new_num = target - num\n",
    "            print('Need:', new_num)\n",
    "            if new_targets.get(new_num) is None:\n",
    "                print(False)\n",
    "                new_targets[num] = i\n",
    "            else:\n",
    "                print(True)\n",
    "                return [new_targets[new_num], i]\n",
    "            print()"
   ]
  },
  {
   "cell_type": "code",
   "execution_count": null,
   "metadata": {},
   "outputs": [],
   "source": [
    "sol = Solution()\n",
    "sol.twoSum([2,5,5,11], 10)\n",
    "sol.twoSum([2,7,11,15], 9)\n",
    "sol.twoSum([3,2,4], 6)\n",
    "sol.twoSum([3,3], 6)"
   ]
  }
 ],
 "metadata": {
  "kernelspec": {
   "display_name": "Python 3",
   "language": "python",
   "name": "python3"
  },
  "language_info": {
   "codemirror_mode": {
    "name": "ipython",
    "version": 3
   },
   "file_extension": ".py",
   "mimetype": "text/x-python",
   "name": "python",
   "nbconvert_exporter": "python",
   "pygments_lexer": "ipython3",
   "version": "3.8.6"
  }
 },
 "nbformat": 4,
 "nbformat_minor": 4
}
