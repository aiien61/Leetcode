{
 "cells": [
  {
   "cell_type": "code",
   "execution_count": 82,
   "metadata": {},
   "outputs": [],
   "source": [
    "from collections import namedtuple, deque\n",
    "from queue import Queue\n",
    "\n",
    "class BinaryTree:\n",
    "    def __init__(self, nums):\n",
    "        self.nums = nums\n",
    "        self.root = None\n",
    "        self.nodes = self.buildtree()\n",
    "    \n",
    "    class Node:\n",
    "        Point = namedtuple(\"Point\", [\"val\", \"left\", \"right\"])\n",
    "        \n",
    "        def __init__(self, val, left=None, right=None):\n",
    "            self.val = val\n",
    "            self.left = left\n",
    "            self.right = right\n",
    "        \n",
    "        def __repr__(self):\n",
    "            return str(self.val)\n",
    "\n",
    "    def buildtree(self):\n",
    "        if not self.nums:\n",
    "            return None\n",
    "        if self.nums[0] is None:\n",
    "            return None\n",
    "        \n",
    "        nodes = [self.Node(num) for num in self.nums]\n",
    "        \n",
    "        self.root = nodes[0]\n",
    "        \n",
    "        for i, node in enumerate(nodes):\n",
    "            i_left = (i + 1) * 2 -1\n",
    "            i_right = (i + 1) * 2\n",
    "            \n",
    "            if node.val is None:\n",
    "                continue\n",
    "            \n",
    "            if i_left < len(self.nums):\n",
    "                node.left = nodes[i_left]\n",
    "                \n",
    "            if i_right < len(self.nums):\n",
    "                node.right = nodes[i_right]\n",
    "        return nodes\n",
    "    \n",
    "    def traverse_levelorder_bfs(self):\n",
    "        if self.root is None:\n",
    "            return None\n",
    "        \n",
    "        dq = deque()\n",
    "        dq.append(self.root)\n",
    "        \n",
    "        while True:\n",
    "            if len(dq) == 0:\n",
    "                break\n",
    "            \n",
    "            node = dq.popleft()\n",
    "            if node is None:\n",
    "                continue\n",
    "                \n",
    "            if node.val is None:\n",
    "                continue\n",
    "            \n",
    "            print(node.val, end=\" \")\n",
    "            \n",
    "            dq.append(node.left)\n",
    "            dq.append(node.right)\n",
    "        return None"
   ]
  },
  {
   "cell_type": "code",
   "execution_count": 83,
   "metadata": {},
   "outputs": [],
   "source": [
    "nums = [\n",
    "    5,\n",
    "    2, 6,\n",
    "    1, 4, None, 7,\n",
    "    None, None, 3, None, None, None, None, None\n",
    "]"
   ]
  },
  {
   "cell_type": "code",
   "execution_count": 84,
   "metadata": {},
   "outputs": [],
   "source": [
    "bfs = BinaryTree(nums)"
   ]
  },
  {
   "cell_type": "code",
   "execution_count": 85,
   "metadata": {},
   "outputs": [
    {
     "data": {
      "text/plain": [
       "[5, 2, 6, 1, 4, None, 7, None, None, 3, None, None, None, None, None]"
      ]
     },
     "execution_count": 85,
     "metadata": {},
     "output_type": "execute_result"
    }
   ],
   "source": [
    "bfs.nodes"
   ]
  },
  {
   "cell_type": "code",
   "execution_count": 86,
   "metadata": {},
   "outputs": [
    {
     "name": "stdout",
     "output_type": "stream",
     "text": [
      "5 2 6 1 4 7 3 "
     ]
    }
   ],
   "source": [
    "bfs.traverse_levelorder_bfs()"
   ]
  },
  {
   "cell_type": "code",
   "execution_count": 87,
   "metadata": {},
   "outputs": [],
   "source": [
    "from typing import List\n",
    "from queue import Queue\n",
    "\n",
    "class BT_Array:\n",
    "    def __init__(self, nums: List[int]):\n",
    "        self.nums = nums\n",
    "        \n",
    "    def traverse_levelorder_bfs(self):\n",
    "        if not self.nums:\n",
    "            return None\n",
    "        \n",
    "        q = Queue()\n",
    "        \n",
    "        i_root = 0\n",
    "        q.put(i_root)\n",
    "        \n",
    "        while True:\n",
    "            if q.empty():\n",
    "                break\n",
    "                \n",
    "            i = q.get()\n",
    "            if i >= len(self.nums):\n",
    "                continue\n",
    "            if self.nums[i] is None:\n",
    "                continue\n",
    "            \n",
    "            print(self.nums[i], end=\" \")\n",
    "            \n",
    "            i_left = (i + 1) * 2 - 1\n",
    "            i_right = (i + 1) * 2\n",
    "            \n",
    "            q.put(i_left)\n",
    "            q.put(i_right)\n",
    "        "
   ]
  },
  {
   "cell_type": "code",
   "execution_count": 88,
   "metadata": {},
   "outputs": [
    {
     "name": "stdout",
     "output_type": "stream",
     "text": [
      "5 2 6 1 4 7 3 "
     ]
    }
   ],
   "source": [
    "bfs = BT_Array(nums)\n",
    "bfs.traverse_levelorder_bfs()"
   ]
  },
  {
   "cell_type": "code",
   "execution_count": null,
   "metadata": {},
   "outputs": [],
   "source": []
  }
 ],
 "metadata": {
  "kernelspec": {
   "display_name": "Python 3",
   "language": "python",
   "name": "python3"
  },
  "language_info": {
   "codemirror_mode": {
    "name": "ipython",
    "version": 3
   },
   "file_extension": ".py",
   "mimetype": "text/x-python",
   "name": "python",
   "nbconvert_exporter": "python",
   "pygments_lexer": "ipython3",
   "version": "3.8.6"
  }
 },
 "nbformat": 4,
 "nbformat_minor": 4
}
