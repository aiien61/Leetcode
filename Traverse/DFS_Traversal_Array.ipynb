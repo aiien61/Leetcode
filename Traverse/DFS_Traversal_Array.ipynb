{
 "cells": [
  {
   "cell_type": "code",
   "execution_count": 1,
   "metadata": {},
   "outputs": [],
   "source": [
    "nodes = [\n",
    "    5,\n",
    "    2, 6,\n",
    "    1, 4, None, 7,\n",
    "    None, None, 3, None, None, None, None, None\n",
    "]"
   ]
  },
  {
   "cell_type": "code",
   "execution_count": 24,
   "metadata": {},
   "outputs": [],
   "source": [
    "class BT_Array:\n",
    "    def __init__(self, nodes_array: list):\n",
    "        self.array = nodes_array\n",
    "    \n",
    "    def traverse_preorder_left(self, arr, node_i=0):\n",
    "        if node_i >= len(self.array):\n",
    "            return None\n",
    "        \n",
    "        if len(self.array) == 0:\n",
    "            return None\n",
    "        \n",
    "        root_i = 0\n",
    "        if self.array[root_i] is None:\n",
    "            return None\n",
    "        \n",
    "        leftnode_i = (node_i + 1) * 2 - 1\n",
    "        rightnode_i = (node_i + 1) * 2\n",
    "        \n",
    "        if self.array[node_i] is not None:\n",
    "            arr.append(self.array[node_i])\n",
    "            # print(self.array[node_i], end=\" \")\n",
    "\n",
    "        self.traverse_preorder_left(arr, leftnode_i)\n",
    "        self.traverse_preorder_left(arr, rightnode_i)\n",
    "        \n",
    "        return arr\n",
    "    \n",
    "    def traverse_inorder_left(self, arr, node_i=0):\n",
    "        if node_i >= len(self.array):\n",
    "            return None\n",
    "        \n",
    "        if len(self.array) == 0:\n",
    "            return None\n",
    "        \n",
    "        root_i = 0\n",
    "        if self.array[root_i] is None:\n",
    "            return None\n",
    "        \n",
    "        leftnode_i = (node_i + 1) * 2 - 1\n",
    "        rightnode_i = (node_i + 1) * 2\n",
    "\n",
    "        self.traverse_inorder_left(arr, leftnode_i)\n",
    "\n",
    "        if self.array[node_i] is not None:\n",
    "            arr.append(self.array[node_i])\n",
    "            # print(self.array[node_i], end=\" \")\n",
    "\n",
    "        self.traverse_inorder_left(arr, rightnode_i)\n",
    "        return arr\n",
    "        \n",
    "    def traverse_postorder_left(self, arr, node_i=0):\n",
    "        if node_i >= len(self.array):\n",
    "            return None\n",
    "        \n",
    "        if len(self.array) == 0:\n",
    "            return None\n",
    "        \n",
    "        root_i = 0\n",
    "        if self.array[root_i] is None:\n",
    "            return None\n",
    "        \n",
    "        leftnode_i = (node_i + 1) * 2 - 1\n",
    "        rightnode_i = (node_i + 1) * 2\n",
    "\n",
    "        self.traverse_postorder_left(arr, leftnode_i)\n",
    "        self.traverse_postorder_left(arr, rightnode_i)\n",
    "        if self.array[node_i] is not None:\n",
    "            arr.append(self.array[node_i])\n",
    "            # print(self.array[node_i], end=\" \")\n",
    "        return arr\n"
   ]
  },
  {
   "cell_type": "code",
   "execution_count": 25,
   "metadata": {},
   "outputs": [
    {
     "name": "stdout",
     "output_type": "stream",
     "text": [
      "[5, 2, 1, 4, 3, 6, 7]\n",
      "[1, 2, 3, 4, 5, 6, 7]\n",
      "[1, 3, 4, 2, 7, 6, 5]\n"
     ]
    }
   ],
   "source": [
    "bt = BT_Array(nodes)\n",
    "print(bt.traverse_preorder_left(arr=[]))\n",
    "print(bt.traverse_inorder_left(arr=[]))\n",
    "print(bt.traverse_postorder_left(arr=[]))"
   ]
  }
 ],
 "metadata": {
  "kernelspec": {
   "display_name": "Python 3",
   "language": "python",
   "name": "python3"
  },
  "language_info": {
   "codemirror_mode": {
    "name": "ipython",
    "version": 3
   },
   "file_extension": ".py",
   "mimetype": "text/x-python",
   "name": "python",
   "nbconvert_exporter": "python",
   "pygments_lexer": "ipython3",
   "version": "3.8.6"
  }
 },
 "nbformat": 4,
 "nbformat_minor": 4
}
