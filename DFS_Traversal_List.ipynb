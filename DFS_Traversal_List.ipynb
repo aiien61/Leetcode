{
 "cells": [
  {
   "cell_type": "code",
   "execution_count": 2,
   "metadata": {},
   "outputs": [],
   "source": [
    "class Node:\n",
    "    def __init__(self, val):\n",
    "        self.val = val\n",
    "        self.right = None\n",
    "        self.left = None"
   ]
  },
  {
   "cell_type": "code",
   "execution_count": 9,
   "metadata": {},
   "outputs": [],
   "source": [
    "class BinaryTree:\n",
    "    root = None\n",
    "    \n",
    "    def add(self, val):\n",
    "        if not self.root:\n",
    "            self.root = Node(val)\n",
    "        else:\n",
    "            self._add(val, self.root)\n",
    "        return None\n",
    "            \n",
    "    def _add(self, val, node):\n",
    "        if val < node.val:\n",
    "            if not node.left:\n",
    "                node.left = Node(val)\n",
    "            else:\n",
    "                self._add(val, node.left)\n",
    "        else:\n",
    "            if not node.right:\n",
    "                node.right = Node(val)\n",
    "            else:\n",
    "                self._add(val, node.right)\n",
    "        return None\n",
    "    \n",
    "#     def __repr__(self):\n",
    "#         if not self.root:\n",
    "#             return None\n",
    "#         else:\n",
    "#             return self._print_tree(self.root)\n",
    "            \n",
    "#     def _print_tree(self, node) -> str:\n",
    "#         tree_str = \"\"\n",
    "#         if node:\n",
    "#             tree_str + self._print_tree(node.left)\n",
    "#             tree_str + str(node.val) + \" \"\n",
    "#             tree_str + self._print_tree(node.right)\n",
    "#             return tree_str"
   ]
  },
  {
   "cell_type": "code",
   "execution_count": 10,
   "metadata": {},
   "outputs": [],
   "source": [
    "nodes = [\n",
    "    5,\n",
    "    2,6,\n",
    "    1,4,7,\n",
    "    3\n",
    "]"
   ]
  },
  {
   "cell_type": "code",
   "execution_count": 11,
   "metadata": {},
   "outputs": [],
   "source": [
    "tree = BinaryTree()\n",
    "for node in nodes:\n",
    "    tree.add(node)"
   ]
  },
  {
   "cell_type": "markdown",
   "metadata": {},
   "source": [
    "## DFS left"
   ]
  },
  {
   "cell_type": "code",
   "execution_count": 13,
   "metadata": {},
   "outputs": [],
   "source": [
    "def traverse_preorder(node):\n",
    "    if not node:\n",
    "        return None\n",
    "\n",
    "    print(node.val, end=\" \")\n",
    "    traverse_preorder(node.left)\n",
    "    traverse_preorder(node.right)\n",
    "    return None\n",
    "\n",
    "def traverse_preorder_dfsleft():\n",
    "    if not tree.root:\n",
    "        return None\n",
    "    traverse_preorder(tree.root)\n",
    "    return None\n"
   ]
  },
  {
   "cell_type": "code",
   "execution_count": 14,
   "metadata": {},
   "outputs": [],
   "source": [
    "def traverse_inorder(node):\n",
    "    if not node:\n",
    "        return None\n",
    "\n",
    "    traverse_inorder(node.left)\n",
    "    print(node.val, end=\" \")\n",
    "    traverse_inorder(node.right)\n",
    "    return None\n",
    "\n",
    "def traverse_inorder_dfsleft():\n",
    "    if not tree.root:\n",
    "        return None\n",
    "    traverse_inorder(tree.root)\n",
    "    return None\n"
   ]
  },
  {
   "cell_type": "code",
   "execution_count": 15,
   "metadata": {},
   "outputs": [],
   "source": [
    "def traverse_postorder(node):\n",
    "    if not node:\n",
    "        return None\n",
    "    \n",
    "    traverse_postorder(node.left)\n",
    "    traverse_postorder(node.right)\n",
    "    print(node.val, end=\" \")\n",
    "    return None\n",
    "\n",
    "def traverse_postorder_dfsleft():\n",
    "    if not tree.root:\n",
    "        return None\n",
    "    traverse_postorder(tree.root)\n",
    "    return None\n"
   ]
  },
  {
   "cell_type": "code",
   "execution_count": 18,
   "metadata": {},
   "outputs": [
    {
     "name": "stdout",
     "output_type": "stream",
     "text": [
      "pre-order: 5 2 1 4 3 6 7 \n",
      "in-order: 1 2 3 4 5 6 7 \n",
      "post-order: 1 3 4 2 7 6 5 "
     ]
    }
   ],
   "source": [
    "print(\"pre-order:\", end=\" \")\n",
    "traverse_preorder_dfsleft()\n",
    "print()\n",
    "print(\"in-order:\", end=\" \")\n",
    "traverse_inorder_dfsleft()\n",
    "print()\n",
    "print(\"post-order:\", end=\" \")\n",
    "traverse_postorder_dfsleft()"
   ]
  },
  {
   "cell_type": "code",
   "execution_count": 19,
   "metadata": {},
   "outputs": [],
   "source": [
    "def traverse_preorder(node):\n",
    "    if not node:\n",
    "        return None\n",
    "\n",
    "    print(node.val, end=\" \")\n",
    "    traverse_preorder(node.right)\n",
    "    traverse_preorder(node.left)\n",
    "    return None\n",
    "\n",
    "def traverse_preorder_dfsright():\n",
    "    if not tree.root:\n",
    "        return None\n",
    "    traverse_preorder(tree.root)\n",
    "    return None\n"
   ]
  },
  {
   "cell_type": "code",
   "execution_count": 20,
   "metadata": {},
   "outputs": [],
   "source": [
    "def traverse_inorder(node):\n",
    "    if not node:\n",
    "        return None\n",
    "\n",
    "    traverse_inorder(node.right)\n",
    "    print(node.val, end=\" \")\n",
    "    traverse_inorder(node.left)\n",
    "    return None\n",
    "\n",
    "def traverse_inorder_dfsright():\n",
    "    if not tree.root:\n",
    "        return None\n",
    "    traverse_inorder(tree.root)\n",
    "    return None\n"
   ]
  },
  {
   "cell_type": "code",
   "execution_count": 21,
   "metadata": {},
   "outputs": [],
   "source": [
    "def traverse_postorder(node):\n",
    "    if not node:\n",
    "        return None\n",
    "\n",
    "    traverse_postorder(node.right)\n",
    "    traverse_postorder(node.left)\n",
    "    print(node.val, end=\" \")\n",
    "    return None\n",
    "\n",
    "def traverse_postorder_dfsright():\n",
    "    if not tree.root:\n",
    "        return None\n",
    "    traverse_postorder(tree.root)\n",
    "    return None\n"
   ]
  },
  {
   "cell_type": "code",
   "execution_count": 22,
   "metadata": {},
   "outputs": [
    {
     "name": "stdout",
     "output_type": "stream",
     "text": [
      "pre-order: 5 6 7 2 4 3 1 \n",
      "in-order: 7 6 5 4 3 2 1 \n",
      "post-order: 7 6 3 4 1 2 5 "
     ]
    }
   ],
   "source": [
    "print(\"pre-order:\", end=\" \")\n",
    "traverse_preorder_dfsright()\n",
    "print()\n",
    "print(\"in-order:\", end=\" \")\n",
    "traverse_inorder_dfsright()\n",
    "print()\n",
    "print(\"post-order:\", end=\" \")\n",
    "traverse_postorder_dfsright()"
   ]
  },
  {
   "cell_type": "code",
   "execution_count": 24,
   "metadata": {},
   "outputs": [
    {
     "name": "stdout",
     "output_type": "stream",
     "text": [
      "Binary tree: \n",
      "  3\n",
      " / \\\n",
      "6   8\n",
      "\n",
      "List of nodes: [Node(3), Node(6), Node(8)]\n",
      "Inorder of nodes: [Node(6), Node(3), Node(8)]\n",
      "Size of tree: 3\n",
      "Height of tree: 1\n",
      "Properties of tree:\n",
      " {'height': 1, 'size': 3, 'is_max_heap': False, 'is_min_heap': True, 'is_perfect': True, 'is_strict': True, 'is_complete': True, 'leaf_count': 2, 'min_node_value': 3, 'max_node_value': 8, 'min_leaf_depth': 1, 'max_leaf_depth': 1, 'is_balanced': True, 'is_bst': False, 'is_symmetric': False}\n"
     ]
    }
   ],
   "source": [
    "from binarytree import Node\n",
    "root = Node(3)\n",
    "root.left = Node(6)\n",
    "root.right = Node(8)\n",
    "print(\"Binary tree:\", root)\n",
    "print(\"List of nodes:\", list(root))\n",
    "print(\"Inorder of nodes:\", root.inorder)\n",
    "print(\"Size of tree:\", root.size)\n",
    "print(\"Height of tree:\", root.height)\n",
    "print(\"Properties of tree:\\n\", root.properties)"
   ]
  },
  {
   "cell_type": "code",
   "execution_count": 2,
   "metadata": {},
   "outputs": [
    {
     "name": "stdout",
     "output_type": "stream",
     "text": [
      "Binary tree from list:\n",
      " \n",
      "    ____5\n",
      "   /     \\\n",
      "  2__     6\n",
      " /   \\     \\\n",
      "1     4     7\n",
      "     /\n",
      "    3\n",
      "\n",
      "\n",
      "List from binary tree: [5, 2, 6, 1, 4, None, 7, None, None, 3]\n",
      "inorder: [Node(1), Node(2), Node(3), Node(4), Node(5), Node(6), Node(7)]\n"
     ]
    }
   ],
   "source": [
    "from binarytree import build\n",
    "nodes = [\n",
    "    5,\n",
    "    2, 6,\n",
    "    1, 4, None, 7,\n",
    "    None, None, 3, None, None, None, None, None\n",
    "]\n",
    "binary_tree = build(nodes)\n",
    "print(\"Binary tree from list:\\n\", binary_tree)\n",
    "print(\"\\nList from binary tree:\", binary_tree.values)\n",
    "print(\"inorder:\", binary_tree.inorder)"
   ]
  },
  {
   "cell_type": "code",
   "execution_count": 3,
   "metadata": {},
   "outputs": [
    {
     "data": {
      "image/svg+xml": [
       "\n",
       "<svg width=\"384\" height=\"240\" xmlns=\"http://www.w3.org/2000/svg\">\n",
       "<style>\n",
       "    .value {\n",
       "        font: 300 16px sans-serif;\n",
       "        text-align: center;\n",
       "        dominant-baseline: middle;\n",
       "        text-anchor: middle;\n",
       "    }\n",
       "    .node {\n",
       "        fill: lightgray;\n",
       "        stroke-width: 1;\n",
       "    }\n",
       "</style>\n",
       "<g stroke=\"#000000\">\n",
       "<line x1=\"137.0\" y1=\"144\" x2=\"113.0\" y2=\"192\"/>\n",
       "<line x1=\"281.0\" y1=\"96\" x2=\"329.0\" y2=\"144\"/>\n",
       "<line x1=\"89.0\" y1=\"96\" x2=\"137.0\" y2=\"144\"/>\n",
       "<line x1=\"89.0\" y1=\"96\" x2=\"41.0\" y2=\"144\"/>\n",
       "<line x1=\"185.0\" y1=\"48\" x2=\"281.0\" y2=\"96\"/>\n",
       "<line x1=\"185.0\" y1=\"48\" x2=\"89.0\" y2=\"96\"/>\n",
       "<circle class=\"node\" cx=\"185.0\" cy=\"48\" r=\"16\"/>\n",
       "<text class=\"value\" x=\"185.0\" y=\"48\">5</text>\n",
       "<circle class=\"node\" cx=\"89.0\" cy=\"96\" r=\"16\"/>\n",
       "<text class=\"value\" x=\"89.0\" y=\"96\">2</text>\n",
       "<circle class=\"node\" cx=\"281.0\" cy=\"96\" r=\"16\"/>\n",
       "<text class=\"value\" x=\"281.0\" y=\"96\">6</text>\n",
       "<circle class=\"node\" cx=\"41.0\" cy=\"144\" r=\"16\"/>\n",
       "<text class=\"value\" x=\"41.0\" y=\"144\">1</text>\n",
       "<circle class=\"node\" cx=\"137.0\" cy=\"144\" r=\"16\"/>\n",
       "<text class=\"value\" x=\"137.0\" y=\"144\">4</text>\n",
       "<circle class=\"node\" cx=\"329.0\" cy=\"144\" r=\"16\"/>\n",
       "<text class=\"value\" x=\"329.0\" y=\"144\">7</text>\n",
       "<circle class=\"node\" cx=\"113.0\" cy=\"192\" r=\"16\"/>\n",
       "<text class=\"value\" x=\"113.0\" y=\"192\">3</text>\n",
       "</g>\n",
       "</svg>\n"
      ],
      "text/plain": [
       "Node(5)"
      ]
     },
     "execution_count": 3,
     "metadata": {},
     "output_type": "execute_result"
    }
   ],
   "source": [
    "binary_tree"
   ]
  },
  {
   "cell_type": "code",
   "execution_count": 27,
   "metadata": {},
   "outputs": [
    {
     "name": "stdout",
     "output_type": "stream",
     "text": [
      "Binary tree of any height :\n",
      "\n",
      "          _____8__\n",
      "         /        \\\n",
      "     ___12         7\n",
      "    /     \\       / \\\n",
      "  _11      2     3   4\n",
      " /   \\      \\         \\\n",
      "13    0      6         1\n",
      "\n",
      "Binary tree of given height :\n",
      "\n",
      "    __3__\n",
      "   /     \\\n",
      "  0       5\n",
      " / \\     /\n",
      "1   4   6\n",
      "\n",
      "Perfect binary tree of given height :\n",
      "\n",
      "    __0__\n",
      "   /     \\\n",
      "  4       3\n",
      " / \\     / \\\n",
      "2   6   1   5\n",
      "\n"
     ]
    }
   ],
   "source": [
    "from binarytree import tree\n",
    "\n",
    "# Create a random binary \n",
    "# tree of any height\n",
    "root = tree()\n",
    "print(\"Binary tree of any height :\")\n",
    "print(root)\n",
    "  \n",
    "# Create a random binary \n",
    "# tree of given height\n",
    "root2 = tree(height = 2)\n",
    "print(\"Binary tree of given height :\")\n",
    "print(root2)\n",
    "  \n",
    "# Create a random perfect \n",
    "# binary tree of given height\n",
    "root3 = tree(height = 2,\n",
    "             is_perfect = True)\n",
    "print(\"Perfect binary tree of given height :\")\n",
    "print(root3)"
   ]
  },
  {
   "cell_type": "code",
   "execution_count": 28,
   "metadata": {},
   "outputs": [
    {
     "name": "stdout",
     "output_type": "stream",
     "text": [
      "BST of any height : \n",
      " \n",
      "        _____13\n",
      "       /       \\\n",
      "    __7         14\n",
      "   /   \\\n",
      "  3     8\n",
      " / \\     \\\n",
      "0   6     12\n",
      "\n",
      "BST of given height : \n",
      " \n",
      "  __3\n",
      " /   \\\n",
      "0     4\n",
      " \\     \\\n",
      "  2     6\n",
      "\n",
      "Perfect BST of given height : \n",
      " \n",
      "    __3__\n",
      "   /     \\\n",
      "  1       5\n",
      " / \\     / \\\n",
      "0   2   4   6\n",
      "\n"
     ]
    }
   ],
   "source": [
    "from binarytree import bst\n",
    "\n",
    "# Create a random BST (binary search tree)\n",
    "# of any height\n",
    "root = bst()\n",
    "print('BST of any height : \\n', root)\n",
    "\n",
    "# Create a random BST of \n",
    "# given height\n",
    "root2 = bst(height = 2)\n",
    "print('BST of given height : \\n', root2)\n",
    "  \n",
    "# Create a random perfect \n",
    "# BST of given height\n",
    "root3 = bst(height = 2, \n",
    "            is_perfect = True)\n",
    "print('Perfect BST of given height : \\n', root3)"
   ]
  },
  {
   "cell_type": "code",
   "execution_count": 29,
   "metadata": {},
   "outputs": [
    {
     "name": "stdout",
     "output_type": "stream",
     "text": [
      "Max-heap of any height : \n",
      " \n",
      "        _______14_______\n",
      "       /                \\\n",
      "    __12__            ___13__\n",
      "   /      \\          /       \\\n",
      "  7        5        10        8\n",
      " / \\      / \\      /  \\      /\n",
      "0   1    4   2    9    6    3\n",
      "\n",
      "Max-heap of given height : \n",
      " \n",
      "    __6__\n",
      "   /     \\\n",
      "  3       5\n",
      " / \\     / \\\n",
      "1   2   4   0\n",
      "\n",
      "Perfect min-heap of given height : \n",
      " \n",
      "    __0__\n",
      "   /     \\\n",
      "  1       2\n",
      " / \\     / \\\n",
      "5   3   6   4\n",
      "\n"
     ]
    }
   ],
   "source": [
    "from binarytree import heap\n",
    "\n",
    "# Create a random max-heap\n",
    "root = heap()\n",
    "print('Max-heap of any height : \\n', root)\n",
    "  \n",
    "# Create a random max-heap\n",
    "# of given height\n",
    "root2 = heap(height = 2)\n",
    "  \n",
    "print('Max-heap of given height : \\n', root2)\n",
    "  \n",
    "# Create a random perfect \n",
    "# min-heap of given height\n",
    "root3 = heap(height = 2, \n",
    "             is_max = False, \n",
    "             is_perfect = True)\n",
    "  \n",
    "print('Perfect min-heap of given height : \\n', root3)"
   ]
  },
  {
   "cell_type": "code",
   "execution_count": null,
   "metadata": {},
   "outputs": [],
   "source": []
  }
 ],
 "metadata": {
  "kernelspec": {
   "display_name": "Python 3",
   "language": "python",
   "name": "python3"
  },
  "language_info": {
   "codemirror_mode": {
    "name": "ipython",
    "version": 3
   },
   "file_extension": ".py",
   "mimetype": "text/x-python",
   "name": "python",
   "nbconvert_exporter": "python",
   "pygments_lexer": "ipython3",
   "version": "3.8.6"
  }
 },
 "nbformat": 4,
 "nbformat_minor": 4
}
