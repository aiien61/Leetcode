{
 "cells": [
  {
   "cell_type": "code",
   "execution_count": null,
   "metadata": {},
   "outputs": [],
   "source": [
    "class Solution:\n",
    "    def reverse(self, x: int) -> int:\n",
    "        rev = int(str(abs(x))[::-1])\n",
    "        rev = -rev if x < 0 else rev\n",
    "        return rev if rev.bit_length() < 32 else 0"
   ]
  },
  {
   "cell_type": "code",
   "execution_count": null,
   "metadata": {},
   "outputs": [],
   "source": [
    "x = 1534236469\n",
    "s = []\n",
    "\n",
    "dividend = abs(x)\n",
    "while True:\n",
    "    power = len(str(dividend))\n",
    "    if power > 1:\n",
    "        power -= 1\n",
    "\n",
    "    divisor = 10 ** power\n",
    "    quotient, remainder = divmod(dividend, divisor)\n",
    "    if quotient == 0:\n",
    "        s.insert(0, remainder)\n",
    "        break\n",
    "    else:\n",
    "        s.insert(0, quotient)\n",
    "        zero_gap = len(str(dividend)) - len(str(remainder))\n",
    "        if zero_gap > 1:\n",
    "            for _ in range(zero_gap-1):\n",
    "                s.insert(0, 0)\n",
    "        dividend = remainder\n",
    "        \n",
    "result = int(\"\".join([str(digit) for digit in s]))\n",
    "if x < 0:\n",
    "    result = -result\n",
    "    \n",
    "if result > 2 ** 31 - 1:\n",
    "    result = 0\n",
    "elif result < -(2 ** 31):\n",
    "    result = 0\n",
    "\n",
    "print(result)"
   ]
  }
 ],
 "metadata": {
  "kernelspec": {
   "display_name": "Python 3",
   "language": "python",
   "name": "python3"
  },
  "language_info": {
   "codemirror_mode": {
    "name": "ipython",
    "version": 3
   },
   "file_extension": ".py",
   "mimetype": "text/x-python",
   "name": "python",
   "nbconvert_exporter": "python",
   "pygments_lexer": "ipython3",
   "version": "3.8.6"
  }
 },
 "nbformat": 4,
 "nbformat_minor": 4
}
